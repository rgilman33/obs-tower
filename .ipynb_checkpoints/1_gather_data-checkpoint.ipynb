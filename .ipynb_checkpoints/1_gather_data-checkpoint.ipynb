version https://git-lfs.github.com/spec/v1
oid sha256:89bdcd3286b0459742d6cee94cb6e2af6179843542c14dbd295197e9aeb25a13
size 146541

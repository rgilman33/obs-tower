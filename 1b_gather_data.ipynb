version https://git-lfs.github.com/spec/v1
oid sha256:71bc8981b91f970f0b6456a07e3e3a64cb98fd1f6d6836fca5dc6d67ab3c581a
size 253250
